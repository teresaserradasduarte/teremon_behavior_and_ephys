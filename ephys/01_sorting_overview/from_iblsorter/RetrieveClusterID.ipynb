{
 "cells": [
  {
   "cell_type": "code",
   "execution_count": 2,
   "id": "da860e76",
   "metadata": {},
   "outputs": [
    {
     "name": "stdout",
     "output_type": "stream",
     "text": [
      "Written 52 clusters to C:\\Users\\simon\\Desktop\\Data\\EPhys\\Data2Curate\\1_CoteDor\\04082023_CoteDor_Cer_S5_g0\\04082023_CoteDor_Cer_S5_g0_imec0\\ibl_sorter_results_driftAdapt40\\cluster_CS_test.tsv\n"
     ]
    }
   ],
   "source": [
    "import re\n",
    "\n",
    "log_file = r\"C:\\Users\\simon\\Desktop\\Data\\EPhys\\Data2Curate\\1_CoteDor\\04082023_CoteDor_Cer_S5_g0\\04082023_CoteDor_Cer_S5_g0_imec0\\ibl_sorter_results_driftAdapt40\\phy.log\"  # Replace with your actual log file path\n",
    "output_file = r\"C:\\Users\\simon\\Desktop\\Data\\EPhys\\Data2Curate\\1_CoteDor\\04082023_CoteDor_Cer_S5_g0\\04082023_CoteDor_Cer_S5_g0_imec0\\ibl_sorter_results_driftAdapt40\\cluster_CS_test.tsv\"\n",
    "\n",
    "cluster_ids = set()\n",
    "\n",
    "with open(log_file, \"r\", encoding=\"utf-8\") as f:\n",
    "    for line in f:\n",
    "        # Match lines like: Change metadata_CS for clusters 638 to y.\n",
    "        match = re.search(r\"metadata_CS for clusters ([\\d, ]+) to y\", line)\n",
    "        if match:\n",
    "            ids = match.group(1)\n",
    "            # Split by comma and strip spaces\n",
    "            for cid in ids.split(\",\"):\n",
    "                cid = cid.strip()\n",
    "                if cid.isdigit():\n",
    "                    cluster_ids.add(cid)\n",
    "\n",
    "# Write to TSV\n",
    "with open(output_file, \"w\", encoding=\"utf-8\") as out:\n",
    "    out.write(\"cluster_id\\tCS\\n\")\n",
    "    for cid in sorted(cluster_ids, key=int):\n",
    "        out.write(f\"{cid}\\ty\\n\")\n",
    "\n",
    "print(f\"Written {len(cluster_ids)} clusters to {output_file}\")"
   ]
  },
  {
   "cell_type": "code",
   "execution_count": null,
   "id": "51281324",
   "metadata": {},
   "outputs": [],
   "source": []
  }
 ],
 "metadata": {
  "kernelspec": {
   "display_name": "teremon_env",
   "language": "python",
   "name": "python3"
  },
  "language_info": {
   "codemirror_mode": {
    "name": "ipython",
    "version": 3
   },
   "file_extension": ".py",
   "mimetype": "text/x-python",
   "name": "python",
   "nbconvert_exporter": "python",
   "pygments_lexer": "ipython3",
   "version": "3.11.13"
  }
 },
 "nbformat": 4,
 "nbformat_minor": 5
}
